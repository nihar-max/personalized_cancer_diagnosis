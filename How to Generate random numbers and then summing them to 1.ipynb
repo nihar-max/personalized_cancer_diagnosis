{
 "cells": [
  {
   "cell_type": "markdown",
   "metadata": {},
   "source": [
    "# How to create 9 random probs and make their sum to 1.0"
   ]
  },
  {
   "cell_type": "code",
   "execution_count": 1,
   "metadata": {},
   "outputs": [],
   "source": [
    "import numpy as np\n",
    "import random"
   ]
  },
  {
   "cell_type": "code",
   "execution_count": 2,
   "metadata": {},
   "outputs": [
    {
     "data": {
      "text/plain": [
       "array([[0.36471361, 0.74146448, 0.46719268, 0.23565416, 0.52895203,\n",
       "        0.72367919, 0.57238266, 0.67075529, 0.42591645]])"
      ]
     },
     "execution_count": 2,
     "metadata": {},
     "output_type": "execute_result"
    }
   ],
   "source": [
    "rand_probs = np.random.rand(1,9)\n",
    "\n",
    "rand_probs    # 9 random prob (0-1)"
   ]
  },
  {
   "cell_type": "code",
   "execution_count": 5,
   "metadata": {},
   "outputs": [
    {
     "data": {
      "text/plain": [
       "array([0.36471361, 0.74146448, 0.46719268, 0.23565416, 0.52895203,\n",
       "       0.72367919, 0.57238266, 0.67075529, 0.42591645])"
      ]
     },
     "execution_count": 5,
     "metadata": {},
     "output_type": "execute_result"
    }
   ],
   "source": [
    "# take sum of it \n",
    "\n",
    "sum(rand_probs)"
   ]
  },
  {
   "cell_type": "code",
   "execution_count": 18,
   "metadata": {},
   "outputs": [],
   "source": [
    "sum_of_rand_prob = sum(sum(rand_probs))"
   ]
  },
  {
   "cell_type": "code",
   "execution_count": 21,
   "metadata": {},
   "outputs": [
    {
     "data": {
      "text/plain": [
       "4.730710554020636"
      ]
     },
     "execution_count": 21,
     "metadata": {},
     "output_type": "execute_result"
    }
   ],
   "source": [
    "sum_of_rand_prob "
   ]
  },
  {
   "cell_type": "code",
   "execution_count": 19,
   "metadata": {},
   "outputs": [],
   "source": [
    "# div by rand_probs to make it 1\n",
    "sum_to_1 = rand_probs/sum_of_rand_prob"
   ]
  },
  {
   "cell_type": "code",
   "execution_count": 20,
   "metadata": {},
   "outputs": [
    {
     "data": {
      "text/plain": [
       "array([[0.07709489, 0.15673427, 0.0987574 , 0.04981369, 0.11181239,\n",
       "        0.15297473, 0.12099296, 0.14178743, 0.09003224]])"
      ]
     },
     "execution_count": 20,
     "metadata": {},
     "output_type": "execute_result"
    }
   ],
   "source": [
    "sum_to_1"
   ]
  },
  {
   "cell_type": "code",
   "execution_count": 16,
   "metadata": {},
   "outputs": [
    {
     "data": {
      "text/plain": [
       "1.0"
      ]
     },
     "execution_count": 16,
     "metadata": {},
     "output_type": "execute_result"
    }
   ],
   "source": [
    "sum(sum(sum_to_1))"
   ]
  },
  {
   "cell_type": "markdown",
   "metadata": {},
   "source": [
    "# For 10 rows with 9 classes"
   ]
  },
  {
   "cell_type": "code",
   "execution_count": 24,
   "metadata": {},
   "outputs": [
    {
     "name": "stdout",
     "output_type": "stream",
     "text": [
      "[[0.88873383 0.2787044  0.80332433 0.27741153 0.02952431 0.30833106\n",
      "  0.69139427 0.83826956 0.66791798]]\n",
      "[[0.41483666 0.68358536 0.39455867 0.88285765 0.60833868 0.62499099\n",
      "  0.55525902 0.61194044 0.7719719 ]]\n",
      "[[0.03521602 0.52596439 0.573757   0.51565535 0.80266438 0.37143534\n",
      "  0.92209314 0.87517472 0.38111368]]\n",
      "[[0.28949698 0.42015038 0.82461722 0.57125101 0.03450564 0.06521506\n",
      "  0.04877809 0.58913568 0.17033774]]\n",
      "[[0.20279654 0.84568312 0.94812984 0.94675263 0.68074264 0.44812174\n",
      "  0.37826832 0.16081797 0.06844811]]\n",
      "[[0.38622082 0.69436778 0.84693014 0.48249284 0.75021063 0.69017207\n",
      "  0.39687539 0.02977612 0.23321414]]\n",
      "[[0.35092377 0.34699152 0.05953659 0.47511627 0.02670287 0.08538136\n",
      "  0.09520415 0.86752811 0.20527771]]\n",
      "[[0.89445932 0.61636528 0.51563249 0.0206109  0.71447938 0.86977709\n",
      "  0.97210823 0.28020506 0.71404561]]\n",
      "[[0.16331974 0.44934442 0.13332362 0.66456504 0.50318826 0.96811017\n",
      "  0.62024635 0.67100899 0.78629735]]\n",
      "[[0.83466687 0.16675826 0.33367897 0.57381487 0.23813065 0.86123922\n",
      "  0.78833004 0.4099797  0.95439874]]\n",
      "[[0.5221207  0.97725155 0.97334474 0.35812356 0.63362699 0.25022044\n",
      "  0.87557457 0.78710712 0.23786938]]\n"
     ]
    }
   ],
   "source": [
    "for i in range(11):\n",
    "    rand_probs = np.random.rand(1,9)\n",
    "    print(rand_probs)  "
   ]
  },
  {
   "cell_type": "markdown",
   "metadata": {},
   "source": [
    "#### Observation: we got here 10 data points with random_probs"
   ]
  },
  {
   "cell_type": "code",
   "execution_count": 25,
   "metadata": {},
   "outputs": [
    {
     "data": {
      "text/plain": [
       "array([0.5221207 , 0.97725155, 0.97334474, 0.35812356, 0.63362699,\n",
       "       0.25022044, 0.87557457, 0.78710712, 0.23786938])"
      ]
     },
     "execution_count": 25,
     "metadata": {},
     "output_type": "execute_result"
    }
   ],
   "source": [
    "sum(rand_probs)    # This will sum up all the rows"
   ]
  },
  {
   "cell_type": "code",
   "execution_count": 26,
   "metadata": {},
   "outputs": [
    {
     "data": {
      "text/plain": [
       "5.615239062732656"
      ]
     },
     "execution_count": 26,
     "metadata": {},
     "output_type": "execute_result"
    }
   ],
   "source": [
    "sum(sum(rand_probs))  # this will sum up all the col too"
   ]
  },
  {
   "cell_type": "code",
   "execution_count": 27,
   "metadata": {},
   "outputs": [],
   "source": [
    "sum_all_random_probs = sum(sum(rand_probs))"
   ]
  },
  {
   "cell_type": "code",
   "execution_count": 31,
   "metadata": {},
   "outputs": [
    {
     "data": {
      "text/plain": [
       "array([[0.09298281, 0.17403561, 0.17333986, 0.06377708, 0.11284061,\n",
       "        0.04456096, 0.15592828, 0.1401734 , 0.0423614 ]])"
      ]
     },
     "execution_count": 31,
     "metadata": {},
     "output_type": "execute_result"
    }
   ],
   "source": [
    "# Now divide with random prob to sum it to 1\n",
    "\n",
    "div = rand_probs/sum_all_random_probs\n",
    "\n",
    "div"
   ]
  },
  {
   "cell_type": "code",
   "execution_count": 35,
   "metadata": {},
   "outputs": [
    {
     "data": {
      "text/plain": [
       "1.0"
      ]
     },
     "execution_count": 35,
     "metadata": {},
     "output_type": "execute_result"
    }
   ],
   "source": [
    "sum(sum(div))   # done"
   ]
  },
  {
   "cell_type": "code",
   "execution_count": null,
   "metadata": {},
   "outputs": [],
   "source": []
  }
 ],
 "metadata": {
  "kernelspec": {
   "display_name": "Python 3",
   "language": "python",
   "name": "python3"
  },
  "language_info": {
   "codemirror_mode": {
    "name": "ipython",
    "version": 3
   },
   "file_extension": ".py",
   "mimetype": "text/x-python",
   "name": "python",
   "nbconvert_exporter": "python",
   "pygments_lexer": "ipython3",
   "version": "3.7.6"
  }
 },
 "nbformat": 4,
 "nbformat_minor": 4
}
